{
 "cells": [
  {
   "cell_type": "markdown",
   "metadata": {},
   "source": [
    "### Get the dataset and load it"
   ]
  },
  {
   "cell_type": "code",
   "execution_count": 6,
   "metadata": {},
   "outputs": [],
   "source": [
    "from sklearn.datasets import load_svmlight_file\n",
    "import requests\n",
    "from io import BytesIO\n",
    "\n",
    "r = requests.get(\"https://www.csie.ntu.edu.tw/~cjlin/libsvmtools/datasets/regression/housing_scale\")\n",
    "f = BytesIO(r.content)\n",
    "x,y = load_svmlight_file(f,n_features=13)"
   ]
  },
  {
   "cell_type": "markdown",
   "metadata": {},
   "source": [
    "### Preprocess dataset"
   ]
  },
  {
   "cell_type": "code",
   "execution_count": 7,
   "metadata": {},
   "outputs": [],
   "source": [
    "import numpy as np\n",
    "\n",
    "x = x.toarray()\n",
    "y = y.reshape((-1,1))"
   ]
  },
  {
   "cell_type": "markdown",
   "metadata": {},
   "source": [
    "### Split train data and test data"
   ]
  },
  {
   "cell_type": "code",
   "execution_count": 8,
   "metadata": {},
   "outputs": [],
   "source": [
    "from sklearn.model_selection import train_test_split\n",
    "\n",
    "test_size = 0.25\n",
    "x_train,x_test, y_train, y_test = train_test_split(x, y, test_size = test_size)"
   ]
  },
  {
   "cell_type": "markdown",
   "metadata": {},
   "source": [
    "### Define the loss function and optimize function"
   ]
  },
  {
   "cell_type": "code",
   "execution_count": 9,
   "metadata": {},
   "outputs": [],
   "source": [
    "def loss(x,y,w):\n",
    "    loss = np.abs(np.dot(x,w)-y)\n",
    "    loss = np.average(loss)\n",
    "    return loss\n",
    "\n",
    "def grad_descent(x,y,w,learning_rate): \n",
    "    diff = np.dot(x,w) - y\n",
    "    g = np.dot(x.T, diff)\n",
    "    w -= learning_rate*g\n",
    "    return w\n",
    "\n",
    "def closed_formed(x_train,y_train,w):\n",
    "    w = np.dot(x_train.T, x_train)\n",
    "    w = np.matrix(w)\n",
    "    w = w.I\n",
    "    w = np.dot(np.dot(w,x_train.T), y_train)\n",
    "    return w\n",
    "    "
   ]
  },
  {
   "cell_type": "markdown",
   "metadata": {},
   "source": [
    "### Define hyper-para"
   ]
  },
  {
   "cell_type": "code",
   "execution_count": 10,
   "metadata": {},
   "outputs": [],
   "source": [
    "learning_rate = 0.003\n",
    "max_epoch = 50\n",
    "batch_size = 100\n",
    "max_steps = x_train.shape[0]//batch_size"
   ]
  },
  {
   "cell_type": "markdown",
   "metadata": {},
   "source": [
    "### Define train function and test function"
   ]
  },
  {
   "cell_type": "code",
   "execution_count": 16,
   "metadata": {},
   "outputs": [],
   "source": [
    "# train model using gradient descent\n",
    "def train_model_gd(x_train,y_train,x_test, y_test, learning_rate, max_epoch, batch_size, max_steps):\n",
    "    losses_train=[]\n",
    "    losses_test=[]\n",
    "    \n",
    "    n_features = x_train.shape[1]\n",
    "    w = np.ones((n_features+1, 1))\n",
    "    x_train = np.column_stack((np.ones((x_train.shape[0], 1)),x_train)) #add a new column with value 1 to fit the parameter b\n",
    "    x_test = np.column_stack((np.ones((x_test.shape[0], 1)),x_test)) #add a new column with value 1 to fit the parameter b\n",
    "\n",
    "    for epoch in range(max_epoch):\n",
    "        for step in range(max_steps):\n",
    "            x = x_train[step:step+batch_size]\n",
    "            y = y_train[step:step+batch_size]\n",
    "            \n",
    "            w = grad_descent(x,y,w,learning_rate)\n",
    "           \n",
    "        losses_train.append(loss(x_train,y_train,w))\n",
    "        losses_test.append(loss(x_test,y_test,w))\n",
    "    return losses_train, losses_test\n",
    "\n",
    "# train model using closed-formed\n",
    "def train_model_cf(x_train,y_train,x_test, y_test):\n",
    "    w = np.ones((x_train.shape[1]+1,1))\n",
    "    x_train = np.column_stack((x_train,np.ones((x_train.shape[0],1))))\n",
    "    x_test = np.column_stack((x_test,np.ones((x_test.shape[0],1))))\n",
    "    w = closed_formed(x_train, y_train, w)\n",
    "    \n",
    "    loss_test = loss(x_test,y_test, w)\n",
    "    return loss_test"
   ]
  },
  {
   "cell_type": "markdown",
   "metadata": {},
   "source": [
    "### Train model"
   ]
  },
  {
   "cell_type": "code",
   "execution_count": 17,
   "metadata": {},
   "outputs": [
    {
     "name": "stdout",
     "output_type": "stream",
     "text": [
      "Closed-Formed Loss: 3.13\n"
     ]
    }
   ],
   "source": [
    "losses_train, losses_test = train_model_gd(\n",
    "    x_train, y_train, x_test, y_test, learning_rate,max_epoch, batch_size, max_steps)\n",
    "\n",
    "print(\"Closed-Formed Loss: %.2f\" %(train_model_cf(x_train, y_train, x_test, y_test)))"
   ]
  },
  {
   "cell_type": "markdown",
   "metadata": {},
   "source": [
    "### Plot figure"
   ]
  },
  {
   "cell_type": "code",
   "execution_count": 20,
   "metadata": {},
   "outputs": [],
   "source": [
    "%matplotlib inline"
   ]
  },
  {
   "cell_type": "code",
   "execution_count": 21,
   "metadata": {},
   "outputs": [
    {
     "data": {
      "image/png": "[encoded data removed]",
      "text/plain": [
       "<Figure size 1152x648 with 1 Axes>"
      ]
     },
     "metadata": {
      "needs_background": "light"
     },
     "output_type": "display_data"
    }
   ],
   "source": [
    "import matplotlib.pyplot as plt\n",
    "\n",
    "plt.figure(figsize = (16,9))\n",
    "plt.plot(losses_train, \"-\", color=\"r\", label=\"train loss\")\n",
    "plt.plot(losses_test, \"-\", color=\"b\", label=\"test loss\")\n",
    "plt.xlabel(\"epoch\")\n",
    "plt.ylabel(\"loss\")\n",
    "plt.legend()\n",
    "plt.show()"
   ]
  },
  {
   "cell_type": "code",
   "execution_count": null,
   "metadata": {},
   "outputs": [],
   "source": []
  }
 ],
 "metadata": {
  "kernelspec": {
   "display_name": "Python 3",
   "language": "python",
   "name": "python3"
  },
  "language_info": {
   "codemirror_mode": {
    "name": "ipython",
    "version": 3
   },
   "file_extension": ".py",
   "mimetype": "text/x-python",
   "name": "python",
   "nbconvert_exporter": "python",
   "pygments_lexer": "ipython3",
   "version": "3.7.0"
  }
 },
 "nbformat": 4,
 "nbformat_minor": 2
}
