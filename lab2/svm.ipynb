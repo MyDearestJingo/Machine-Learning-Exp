{
 "cells": [
  {
   "cell_type": "code",
   "execution_count": 2,
   "metadata": {},
   "outputs": [],
   "source": [
    "from sklearn.datasets import load_svmlight_file\n",
    "X_train, y_train = load_svmlight_file(\"a9a.txt\",n_features=123)\n",
    "X_val, y_val = load_svmlight_file(\"a9a_t.txt\",n_features=123)\n",
    "X_train = X_train.toarray()\n",
    "X_val = X_val.toarray()"
   ]
  },
  {
   "cell_type": "code",
   "execution_count": 3,
   "metadata": {},
   "outputs": [],
   "source": [
    "import numpy as np\n",
    "\n",
    "n_samples, n_features = X_train.shape\n",
    "X_train = np.column_stack((X_train, np.ones((X_train.shape[0], 1))))\n",
    "y_train = y_train.reshape((-1, 1))\n",
    "X_val = np.column_stack((X_val, np.ones((X_val.shape[0], 1))))\n",
    "y_val = y_val.reshape((-1, 1))"
   ]
  },
  {
   "cell_type": "code",
   "execution_count": 4,
   "metadata": {},
   "outputs": [],
   "source": [
    "# Hinge Loss\n",
    "def hinge_loss(w,x,y):\n",
    "    loss = np.maximum(1-y*np.dot(x,w), 0)\n",
    "    return loss\n",
    "def loss(w,x,y,C):\n",
    "    loss = np.sum(np.power(w,2)/2)+C*np.average(hinge_loss(w,x,y))\n",
    "    return loss"
   ]
  },
  {
   "cell_type": "code",
   "execution_count": 5,
   "metadata": {},
   "outputs": [],
   "source": [
    "max_epoch = 50\n",
    "learning_rate = 0.001\n",
    "C = 0.5\n",
    "batch_size = 100\n",
    "max_step = X_train.shape[0]//batch_size"
   ]
  },
  {
   "cell_type": "code",
   "execution_count": 6,
   "metadata": {},
   "outputs": [],
   "source": [
    "losses_train = []\n",
    "losses_val = []\n",
    "# w = numpy.zeros((n_features + 1, 1))  # initialize with zeros\n",
    "w = np.random.random((n_features + 1, 1))  # initialize with random numbers\n",
    "# w = numpy.random.normal(0.1, 0.1, size=(n_features + 1, 1))  # initialize with zero normal distribution\n",
    "for epoch in range(max_epoch):\n",
    "    for step in range(max_step):\n",
    "        x = X_train[step:step + batch_size]\n",
    "        y = y_train[step:step + batch_size]\n",
    "        batch_gw = -y*x*(1-y*np.dot(x,w)>=0)\n",
    "        gw = np.sum(batch_gw,axis=0)\n",
    "        grad = w+C*gw.reshape(-1,1)\n",
    "        w -= learning_rate*grad\n",
    "    \n",
    "    train_loss = loss(w,X_train,y_train,C)\n",
    "    losses_train.append(train_loss)\n",
    "        \n",
    "    val_loss = loss(w,X_val,y_val,C)\n",
    "    losses_val.append(val_loss) "
   ]
  },
  {
   "cell_type": "code",
   "execution_count": 7,
   "metadata": {},
   "outputs": [
    {
     "name": "stdout",
     "output_type": "stream",
     "text": [
      "             precision    recall  f1-score   support\n",
      "\n",
      "   positive     0.8705    0.9131    0.8913     12435\n",
      "   negative     0.6664    0.5608    0.6091      3846\n",
      "\n",
      "avg / total     0.8223    0.8299    0.8246     16281\n",
      "\n"
     ]
    }
   ],
   "source": [
    "from sklearn.metrics import classification_report\n",
    "\n",
    "print(classification_report(y_val, np.where(np.dot(X_val, w) > 0, 1, -1),\n",
    "                            target_names=[\"positive\", \"negative\"], digits=4))"
   ]
  },
  {
   "cell_type": "code",
   "execution_count": 8,
   "metadata": {},
   "outputs": [
    {
     "data": {
      "text/plain": [
       "Text(0.5,1,'The graph of loss value varing with the number of iterations')"
      ]
     },
     "execution_count": 8,
     "metadata": {},
     "output_type": "execute_result"
    },
    {
     "data": {
      "image/png": "[encoded data removed]",
      "text/plain": [
       "<Figure size 1296x432 with 1 Axes>"
      ]
     },
     "metadata": {},
     "output_type": "display_data"
    }
   ],
   "source": [
    "%matplotlib inline\n",
    "import matplotlib.pyplot as plt\n",
    "\n",
    "plt.figure(figsize=(18, 6))\n",
    "plt.plot(losses_train, color=\"r\", label=\"train\")\n",
    "plt.plot(losses_val, color=\"b\", label=\"validation\")\n",
    "plt.legend()\n",
    "plt.xlabel(\"epoch\")\n",
    "plt.ylabel(\"loss\")\n",
    "plt.title(\"The graph of loss value varing with the number of iterations\")"
   ]
  },
  {
   "cell_type": "code",
   "execution_count": null,
   "metadata": {},
   "outputs": [],
   "source": []
  }
 ],
 "metadata": {
  "kernelspec": {
   "display_name": "Python 3",
   "language": "python",
   "name": "python3"
  },
  "language_info": {
   "codemirror_mode": {
    "name": "ipython",
    "version": 3
   },
   "file_extension": ".py",
   "mimetype": "text/x-python",
   "name": "python",
   "nbconvert_exporter": "python",
   "pygments_lexer": "ipython3",
   "version": "3.7.0"
  }
 },
 "nbformat": 4,
 "nbformat_minor": 2
}
