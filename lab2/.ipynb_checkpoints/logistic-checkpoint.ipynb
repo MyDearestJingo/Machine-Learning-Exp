{
 "cells": [
  {
   "cell_type": "code",
   "execution_count": 2,
   "metadata": {},
   "outputs": [],
   "source": [
    "from sklearn.datasets import load_svmlight_file\n",
    "X_train, y_train = load_svmlight_file(\"a9a.txt\",n_features=123)\n",
    "X_val, y_val = load_svmlight_file(\"a9a_t.txt\",n_features=123)\n",
    "X_train = X_train.toarray()\n",
    "X_val = X_val.toarray()"
   ]
  },
  {
   "cell_type": "code",
   "execution_count": 3,
   "metadata": {},
   "outputs": [
    {
     "data": {
      "text/plain": [
       "(16281, 123)"
      ]
     },
     "execution_count": 3,
     "metadata": {},
     "output_type": "execute_result"
    }
   ],
   "source": [
    "X_val.shape"
   ]
  },
  {
   "cell_type": "code",
   "execution_count": 4,
   "metadata": {},
   "outputs": [],
   "source": [
    "import numpy as np\n",
    "\n",
    "n_samples, n_features = X_train.shape\n",
    "X_train = np.column_stack((X_train, np.ones((X_train.shape[0], 1))))\n",
    "y_train = y_train.reshape((-1, 1))\n",
    "X_val = np.column_stack((X_val, np.ones((X_val.shape[0], 1))))\n",
    "y_val = y_val.reshape((-1, 1))"
   ]
  },
  {
   "cell_type": "code",
   "execution_count": 5,
   "metadata": {},
   "outputs": [],
   "source": [
    "# transform target [-1,1] to [0,1]\n",
    "y_val = (y_val == 1).astype(np.int)\n",
    "y_train = (y_train == 1).astype(np.int)"
   ]
  },
  {
   "cell_type": "code",
   "execution_count": 6,
   "metadata": {},
   "outputs": [],
   "source": [
    "def sigmoid(x):\n",
    "    return 1 / (1 + np.exp(-x))"
   ]
  },
  {
   "cell_type": "code",
   "execution_count": 7,
   "metadata": {},
   "outputs": [],
   "source": [
    "def logistic(x,w):\n",
    "    return sigmoid(np.dot(x,w))"
   ]
  },
  {
   "cell_type": "code",
   "execution_count": 8,
   "metadata": {},
   "outputs": [],
   "source": [
    "# Cross Entropy Loss\n",
    "def loss(h,y):\n",
    "    loss = -np.average(y*np.log(h)+(1-y)*np.log(1-h),axis=0)\n",
    "    return loss"
   ]
  },
  {
   "cell_type": "code",
   "execution_count": 9,
   "metadata": {},
   "outputs": [],
   "source": [
    "max_epoch = 50\n",
    "learning_rate = 0.001\n",
    "batch_size = 100\n",
    "max_step = X_train.shape[0]//batch_size"
   ]
  },
  {
   "cell_type": "code",
   "execution_count": 10,
   "metadata": {},
   "outputs": [],
   "source": [
    "losses_train = []\n",
    "losses_val = []\n",
    "# w = numpy.zeros((n_features + 1, 1))  # initialize with zeros\n",
    "w = np.random.random((n_features + 1, 1))  # initialize with random numbers\n",
    "# w = numpy.random.normal(0.1, 0.1, size=(n_features + 1, 1))  # initialize with zero normal distribution\n",
    "for epoch in range(max_epoch):\n",
    "    for step in range(max_step):\n",
    "        x = X_train[step:step + batch_size]\n",
    "        y = y_train[step:step + batch_size]\n",
    "        h = logistic(x,w)\n",
    "        grad = np.average((h-y)*x,axis=0)\n",
    "        w -= learning_rate*grad.reshape(-1,1)\n",
    "    \n",
    "    h_train = logistic(X_train,w)\n",
    "    train_loss = loss(h_train,y_train)\n",
    "    losses_train.append(train_loss[0])\n",
    "        \n",
    "    h_val = logistic(X_val,w)\n",
    "    val_loss = loss(h_val,y_val)\n",
    "    losses_val.append(val_loss[0]) "
   ]
  },
  {
   "cell_type": "code",
   "execution_count": 11,
   "metadata": {},
   "outputs": [
    {
     "name": "stdout",
     "output_type": "stream",
     "text": [
      "             precision    recall  f1-score   support\n",
      "\n",
      "   positive     0.8302    0.9277    0.8763     12435\n",
      "   negative     0.6232    0.3866    0.4772      3846\n",
      "\n",
      "avg / total     0.7813    0.7999    0.7820     16281\n",
      "\n"
     ]
    }
   ],
   "source": [
    "from sklearn.metrics import classification_report\n",
    "\n",
    "print(classification_report(y_val, np.where(logistic(X_val, w) > 0.5, 1, 0),\n",
    "                            target_names=[\"positive\", \"negative\"], digits=4))"
   ]
  },
  {
   "cell_type": "code",
   "execution_count": 12,
   "metadata": {},
   "outputs": [
    {
     "data": {
      "text/plain": [
       "Text(0.5,1,'The graph of loss value varing with the number of iterations')"
      ]
     },
     "execution_count": 12,
     "metadata": {},
     "output_type": "execute_result"
    },
    {
     "data": {
      "image/png": "[encoded data removed]",
      "text/plain": [
       "<Figure size 1296x432 with 1 Axes>"
      ]
     },
     "metadata": {},
     "output_type": "display_data"
    }
   ],
   "source": [
    "%matplotlib inline\n",
    "import matplotlib.pyplot as plt\n",
    "\n",
    "plt.figure(figsize=(18, 6))\n",
    "plt.plot(losses_train, color=\"r\", label=\"train\")\n",
    "plt.plot(losses_val, color=\"b\", label=\"validation\")\n",
    "plt.legend()\n",
    "plt.xlabel(\"epoch\")\n",
    "plt.ylabel(\"loss\")\n",
    "plt.title(\"The graph of loss value varing with the number of iterations\")"
   ]
  },
  {
   "cell_type": "code",
   "execution_count": null,
   "metadata": {},
   "outputs": [],
   "source": []
  }
 ],
 "metadata": {
  "kernelspec": {
   "display_name": "Python 3",
   "language": "python",
   "name": "python3"
  },
  "language_info": {
   "codemirror_mode": {
    "name": "ipython",
    "version": 3
   },
   "file_extension": ".py",
   "mimetype": "text/x-python",
   "name": "python",
   "nbconvert_exporter": "python",
   "pygments_lexer": "ipython3",
   "version": "3.5.3"
  }
 },
 "nbformat": 4,
 "nbformat_minor": 2
}
