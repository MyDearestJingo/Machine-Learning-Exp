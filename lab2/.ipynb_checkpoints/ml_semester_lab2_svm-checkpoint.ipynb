{
 "cells": [
  {
   "cell_type": "code",
   "execution_count": 1,
   "metadata": {},
   "outputs": [
    {
     "ename": "ModuleNotFoundError",
     "evalue": "No module named 'pandas'",
     "output_type": "error",
     "traceback": [
      "\u001b[1;31m---------------------------------------------------------------------------\u001b[0m",
      "\u001b[1;31mModuleNotFoundError\u001b[0m                       Traceback (most recent call last)",
      "\u001b[1;32m<ipython-input-1-5e8403120270>\u001b[0m in \u001b[0;36m<module>\u001b[1;34m\u001b[0m\n\u001b[1;32m----> 1\u001b[1;33m \u001b[1;32mimport\u001b[0m \u001b[0mpandas\u001b[0m \u001b[1;32mas\u001b[0m \u001b[0mpd\u001b[0m\u001b[1;33m\u001b[0m\u001b[0m\n\u001b[0m\u001b[0;32m      2\u001b[0m \u001b[1;32mfrom\u001b[0m \u001b[0mpandas\u001b[0m \u001b[1;32mimport\u001b[0m \u001b[0mDataFrame\u001b[0m\u001b[1;33m\u001b[0m\u001b[0m\n\u001b[0;32m      3\u001b[0m \u001b[1;32mimport\u001b[0m \u001b[0mnumpy\u001b[0m \u001b[1;32mas\u001b[0m \u001b[0mnp\u001b[0m\u001b[1;33m\u001b[0m\u001b[0m\n\u001b[0;32m      4\u001b[0m \u001b[1;32mimport\u001b[0m \u001b[0mmatplotlib\u001b[0m\u001b[1;33m.\u001b[0m\u001b[0mpyplot\u001b[0m \u001b[1;32mas\u001b[0m \u001b[0mplt\u001b[0m\u001b[1;33m\u001b[0m\u001b[0m\n\u001b[0;32m      5\u001b[0m \u001b[1;32mfrom\u001b[0m \u001b[0msklearn\u001b[0m\u001b[1;33m.\u001b[0m\u001b[0mdatasets\u001b[0m \u001b[1;32mimport\u001b[0m \u001b[0mload_svmlight_file\u001b[0m\u001b[1;33m\u001b[0m\u001b[0m\n",
      "\u001b[1;31mModuleNotFoundError\u001b[0m: No module named 'pandas'"
     ]
    }
   ],
   "source": [
    "from pandas import DataFrame\n",
    "import numpy as np\n",
    "import matplotlib.pyplot as plt\n",
    "from sklearn.datasets import load_svmlight_file\n",
    "from sklearn.model_selection import train_test_split\n",
    "import math\n",
    "\n",
    "# hyper-parameter\n",
    "lr = 0.0001  # learning rate\n",
    "val_size = 0.25 # validation dataset size\n",
    "max_epoch = 100\n",
    "\n",
    "# load dataset\n",
    "x, y = load_svmlight_file(\"a9a.txt\", n_features=123)\n",
    "# print(x)\n",
    "\n",
    "x = x.toarray()\n",
    "n_samples, n_features = x.shape\n",
    "x = np.column_stack((np.ones((n_samples, 1)), x)) # append a new column for w0\n",
    "y = y.reshape((-1,1)) # reshape y as a vector with shape of [n_features,1]\n",
    "\n",
    "x_train, x_val, y_train, y_val = train_test_split(x ,y, test_size=val_size)\n",
    "\n",
    "def predict(x,w):\n",
    "    y_pre = np.dot(x,w)\n",
    "    n_samples, n_features = x.shape\n",
    "    for r in range(n_samples):\n",
    "        if(y_pre[r, 0]> 0):\n",
    "            y_pre[r, 0] = 1\n",
    "        else:\n",
    "            y_pre[r, 0] = -1\n",
    "    return y_pre\n",
    "\n",
    "def diff_det(y_pre, y_obj):\n",
    "    diff = y_obj.copy()\n",
    "    n_samples,n_features=y_obj.shape\n",
    "    for i in range(n_samples):\n",
    "        if(y_pre[i,0]*y_obj[i,0]>0):\n",
    "            diff[i,0] = 0\n",
    "        else:\n",
    "            diff[i,0] = 1\n",
    "    return diff\n",
    "    \n",
    "\n",
    "def linear_regression_train(x_train, y_train, x_val, y_val, max_epoch, learning_rate):\n",
    "    loss_train_list = []\n",
    "    loss_val_list = []\n",
    "\n",
    "    n_samples, n_features = x_train.shape\n",
    "    w = np.ones((n_features,1))\n",
    "    w = np.matrix(w)\n",
    "    for epoch in range(max_epoch):\n",
    "        y_predic = predict(x_train,w)\n",
    "        diff = diff_det(y_predic,y_train)\n",
    "        g = np.dot(x_train.T,diff)\n",
    "        w+= learning_rate*(-g)\n",
    "\n",
    "        loss_t = np.average(diff)\n",
    "        loss_train_list.append(loss_t)\n",
    "        loss_v = np.average(diff_det(predict(x_val,w),y_val))\n",
    "        loss_val_list.append(loss_v)\n",
    "\n",
    "        if((epoch+1)%10==0):\n",
    "            print(str('Epoch-%3d | Train Loss: %.4f | Validation Loss: %.4f' %(epoch, loss_t, loss_v)))\n",
    "    return loss_train_list, loss_val_list\n",
    "\n",
    "losses_train, losses_val = linear_regression_train(x_train, y_train, x_val, y_val, max_epoch, lr)\n",
    "\n",
    "plt.figure(figsize = (16, 9))\n",
    "plt.plot(losses_train, \"-\", color = \"r\", label = 'train loss')\n",
    "plt.plot(losses_val, \"-\", color = \"b\", label = 'validation loss')\n",
    "plt.xlabel(\"epoch\")\n",
    "plt.ylabel(\"loss\")\n",
    "plt.legend()\n",
    "plt.title(\"The graph of absolute diff value varing with the number of iterations.\")\n",
    "plt.show()\n"
   ]
  },
  {
   "cell_type": "code",
   "execution_count": null,
   "metadata": {},
   "outputs": [],
   "source": []
  }
 ],
 "metadata": {
  "kernelspec": {
   "display_name": "Python 3",
   "language": "python",
   "name": "python3"
  },
  "language_info": {
   "codemirror_mode": {
    "name": "ipython",
    "version": 3
   },
   "file_extension": ".py",
   "mimetype": "text/x-python",
   "name": "python",
   "nbconvert_exporter": "python",
   "pygments_lexer": "ipython3",
   "version": "3.7.0"
  }
 },
 "nbformat": 4,
 "nbformat_minor": 2
}
